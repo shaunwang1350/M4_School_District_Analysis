{
 "cells": [
  {
   "cell_type": "code",
   "execution_count": null,
   "metadata": {},
   "outputs": [],
   "source": []
  },
  {
   "cell_type": "markdown",
   "metadata": {},
   "source": [
    "# PyCitySchools"
   ]
  },
  {
   "cell_type": "markdown",
   "metadata": {},
   "source": [
    "### Adding the Pandas dependency"
   ]
  },
  {
   "cell_type": "code",
   "execution_count": 2,
   "metadata": {},
   "outputs": [],
   "source": [
    "import pandas as pd\n",
    "import os\n",
    "\n",
    "school_data_to_load = os.path.join(\"Resources\", \"schools_complete.csv\")\n",
    "student_data_to_load = os.path.join(\"Resources\", \"students_complete.csv\")\n",
    "\n",
    "school_data_df = pd.read_csv(school_data_to_load)\n",
    "student_data_df = pd.read_csv(student_data_to_load)"
   ]
  },
  {
   "cell_type": "markdown",
   "metadata": {},
   "source": [
    "### Add each prefix and suffix to remove to a list. Iterate through the words in the \"prefixes_suffixes\" list and replace them with an empty space, \"\"."
   ]
  },
  {
   "cell_type": "code",
   "execution_count": 3,
   "metadata": {},
   "outputs": [],
   "source": [
    "prefixes_suffixes = [\"Dr. \", \"Mr. \",\"Ms. \", \"Mrs. \", \"Miss \", \" MD\", \" DDS\", \" DVM\", \" PhD\"]\n",
    "\n",
    "for word in prefixes_suffixes:\n",
    "    student_data_df[\"student_name\"] = student_data_df[\"student_name\"].str.replace(word,\"\")"
   ]
  },
  {
   "cell_type": "markdown",
   "metadata": {},
   "source": [
    "### Counting and declaring variables"
   ]
  },
  {
   "cell_type": "code",
   "execution_count": 4,
   "metadata": {},
   "outputs": [],
   "source": [
    "school_data_complete_df = pd.merge(student_data_df, school_data_df, on=[\"school_name\", \"school_name\"])\n",
    "\n",
    "student_count = school_data_complete_df[\"Student ID\"].count()\n",
    "school_count = len(school_data_complete_df[\"school_name\"].unique())\n",
    "total_budget = school_data_complete_df[\"budget\"].unique().sum()"
   ]
  },
  {
   "cell_type": "markdown",
   "metadata": {},
   "source": [
    "### Creating function for calculating percentages"
   ]
  },
  {
   "cell_type": "code",
   "execution_count": 5,
   "metadata": {},
   "outputs": [],
   "source": [
    "def percentage_calc(count, total_count):\n",
    "    return count/float(total_count)* 100"
   ]
  },
  {
   "cell_type": "markdown",
   "metadata": {},
   "source": [
    "### Determining Average and count student passing grades"
   ]
  },
  {
   "cell_type": "code",
   "execution_count": 6,
   "metadata": {},
   "outputs": [],
   "source": [
    "average_reading_score = school_data_complete_df[\"reading_score\"].mean()\n",
    "average_math_score = school_data_complete_df[\"math_score\"].mean()\n",
    "\n",
    "passing_reading = school_data_complete_df[school_data_complete_df[\"reading_score\"] >= 70]\n",
    "passing_math = school_data_complete_df[school_data_complete_df[\"math_score\"] >= 70]\n",
    "\n",
    "passing_reading_count = passing_reading[\"student_name\"].count()\n",
    "passing_math_count = passing_math[\"student_name\"].count()\n",
    "\n",
    "passing_reading_percentage = percentage_calc(passing_reading_count, student_count)\n",
    "passing_math_percentage = percentage_calc(passing_math_count, student_count)\n",
    "\n",
    "passing_both = school_data_complete_df[(school_data_complete_df[\"reading_score\"] >= 70) & (school_data_complete_df[\"math_score\"] >= 70)]\n",
    "passing_both_count = passing_both[\"student_name\"].count()\n",
    "passing_both_percentage = percentage_calc(passing_both_count, student_count)"
   ]
  },
  {
   "cell_type": "markdown",
   "metadata": {},
   "source": [
    "### District Summary DataFrame / Changing formate for Budget, Average Scores, and Score Percentages"
   ]
  },
  {
   "cell_type": "code",
   "execution_count": 7,
   "metadata": {
    "scrolled": true
   },
   "outputs": [
    {
     "data": {
      "text/html": [
       "<div>\n",
       "<style scoped>\n",
       "    .dataframe tbody tr th:only-of-type {\n",
       "        vertical-align: middle;\n",
       "    }\n",
       "\n",
       "    .dataframe tbody tr th {\n",
       "        vertical-align: top;\n",
       "    }\n",
       "\n",
       "    .dataframe thead th {\n",
       "        text-align: right;\n",
       "    }\n",
       "</style>\n",
       "<table border=\"1\" class=\"dataframe\">\n",
       "  <thead>\n",
       "    <tr style=\"text-align: right;\">\n",
       "      <th></th>\n",
       "      <th>Total Schools</th>\n",
       "      <th>Total Students</th>\n",
       "      <th>Total Budget</th>\n",
       "      <th>Average Math Score</th>\n",
       "      <th>Average Reading Score</th>\n",
       "      <th>% Passing Math</th>\n",
       "      <th>% Passing Reading</th>\n",
       "      <th>% Overall Passing</th>\n",
       "    </tr>\n",
       "  </thead>\n",
       "  <tbody>\n",
       "    <tr>\n",
       "      <th>0</th>\n",
       "      <td>15</td>\n",
       "      <td>39,170</td>\n",
       "      <td>$24,649,428.00</td>\n",
       "      <td>79.0</td>\n",
       "      <td>81.9</td>\n",
       "      <td>74.98%</td>\n",
       "      <td>85.81%</td>\n",
       "      <td>65.17%</td>\n",
       "    </tr>\n",
       "  </tbody>\n",
       "</table>\n",
       "</div>"
      ],
      "text/plain": [
       "   Total Schools Total Students    Total Budget Average Math Score  \\\n",
       "0             15         39,170  $24,649,428.00               79.0   \n",
       "\n",
       "  Average Reading Score % Passing Math % Passing Reading % Overall Passing  \n",
       "0                  81.9         74.98%            85.81%            65.17%  "
      ]
     },
     "execution_count": 7,
     "metadata": {},
     "output_type": "execute_result"
    }
   ],
   "source": [
    "district_summary_df = pd.DataFrame([{\"Total Schools\": school_count, \"Total Students\": student_count, \"Total Budget\": total_budget, \"Average Reading Score\": average_reading_score, \"Average Math Score\": average_math_score, \"% Passing Reading\": passing_reading_percentage, \"% Passing Math\": passing_math_percentage, \"% Overall Passing\": passing_both_percentage}])\n",
    "\n",
    "district_summary_df[\"Total Students\"] = district_summary_df[\"Total Students\"].map(\"{:,}\".format)\n",
    "district_summary_df[\"Total Budget\"] = district_summary_df[\"Total Budget\"].map(\"${:,.2f}\".format)\n",
    "district_summary_df[\"Average Reading Score\"] = district_summary_df[\"Average Reading Score\"].map(\"{:.1f}\".format)\n",
    "district_summary_df[\"Average Math Score\"] = district_summary_df[\"Average Math Score\"].map(\"{:.1f}\".format)\n",
    "district_summary_df[\"% Passing Reading\"] = district_summary_df[\"% Passing Reading\"].map(\"{:.2f}%\".format)\n",
    "district_summary_df[\"% Passing Math\"] = district_summary_df[\"% Passing Math\"].map(\"{:.2f}%\".format)\n",
    "district_summary_df[\"% Overall Passing\"] = district_summary_df[\"% Overall Passing\"].map(\"{:.2f}%\".format)\n",
    "\n",
    "new_column_order = [\"Total Schools\", \"Total Students\", \"Total Budget\",\"Average Math Score\", \"Average Reading Score\", \"% Passing Math\", \"% Passing Reading\", \"% Overall Passing\"]\n",
    "district_summary_df = district_summary_df[new_column_order]\n",
    "district_summary_df"
   ]
  },
  {
   "cell_type": "markdown",
   "metadata": {},
   "source": [
    "### Getting school type, count, budget, "
   ]
  },
  {
   "cell_type": "code",
   "execution_count": 8,
   "metadata": {},
   "outputs": [],
   "source": [
    "per_school_types = school_data_df.set_index([\"school_name\"])[\"type\"]\n",
    "per_school_budget = school_data_df.set_index([\"school_name\"])[\"budget\"]\n",
    "per_school_counts = school_data_complete_df[\"school_name\"].value_counts()\n",
    "per_school_averages = school_data_complete_df.groupby([\"school_name\"]).mean()\n",
    "\n",
    "per_school_math_average = school_data_complete_df.groupby([\"school_name\"]).mean()[\"math_score\"]\n",
    "per_school_reading_average = school_data_complete_df.groupby([\"school_name\"]).mean()[\"reading_score\"]\n",
    "\n",
    "per_school_capita = per_school_budget / per_school_counts\n",
    "per_school_types_df = pd.DataFrame(per_school_types)"
   ]
  },
  {
   "cell_type": "markdown",
   "metadata": {},
   "source": [
    "### Calculate the passing scores by creating a filtered DataFrame."
   ]
  },
  {
   "cell_type": "code",
   "execution_count": 9,
   "metadata": {},
   "outputs": [],
   "source": [
    "per_school_passing_math = school_data_complete_df[(school_data_complete_df[\"math_score\"] >= 70)]\n",
    "per_school_passing_reading = school_data_complete_df[(school_data_complete_df[\"reading_score\"] >= 70)]\n",
    "\n",
    "per_school_passing_math_count = per_school_passing_math.groupby([\"school_name\"]).count()[\"student_name\"]\n",
    "per_school_passing_reading_count = per_school_passing_reading.groupby([\"school_name\"]).count()[\"student_name\"]\n",
    "\n",
    "per_school_passing_math_per = per_school_passing_math_count / per_school_counts * 100\n",
    "per_school_passing_reading_per = per_school_passing_reading_count / per_school_counts* 100"
   ]
  },
  {
   "cell_type": "code",
   "execution_count": 10,
   "metadata": {
    "scrolled": true
   },
   "outputs": [],
   "source": [
    "per_passing_math_reading = school_data_complete_df[(school_data_complete_df[\"math_score\"] >= 70) & (school_data_complete_df[\"reading_score\"] >= 70)]\n",
    "per_passing_math_reading_count = per_passing_math_reading.groupby([\"school_name\"]).count()[\"student_name\"]\n",
    "per_overall_passing_percentage = per_passing_math_reading_count / per_school_counts * 100"
   ]
  },
  {
   "cell_type": "code",
   "execution_count": 14,
   "metadata": {
    "scrolled": true
   },
   "outputs": [
    {
     "data": {
      "text/html": [
       "<div>\n",
       "<style scoped>\n",
       "    .dataframe tbody tr th:only-of-type {\n",
       "        vertical-align: middle;\n",
       "    }\n",
       "\n",
       "    .dataframe tbody tr th {\n",
       "        vertical-align: top;\n",
       "    }\n",
       "\n",
       "    .dataframe thead th {\n",
       "        text-align: right;\n",
       "    }\n",
       "</style>\n",
       "<table border=\"1\" class=\"dataframe\">\n",
       "  <thead>\n",
       "    <tr style=\"text-align: right;\">\n",
       "      <th></th>\n",
       "      <th>School Type</th>\n",
       "      <th>Total Students</th>\n",
       "      <th>Total School Budget</th>\n",
       "      <th>Per Student Budget</th>\n",
       "      <th>Average Math Score</th>\n",
       "      <th>Average Reading Score</th>\n",
       "      <th>% Passing Math</th>\n",
       "      <th>% Passing Reading</th>\n",
       "      <th>% Overall Passing</th>\n",
       "    </tr>\n",
       "  </thead>\n",
       "  <tbody>\n",
       "    <tr>\n",
       "      <th>Cabrera High School</th>\n",
       "      <td>Charter</td>\n",
       "      <td>1858</td>\n",
       "      <td>$1,081,356.00</td>\n",
       "      <td>$582.00</td>\n",
       "      <td>83.1%</td>\n",
       "      <td>84.0%</td>\n",
       "      <td>94.1%</td>\n",
       "      <td>97.0%</td>\n",
       "      <td>91.3%</td>\n",
       "    </tr>\n",
       "    <tr>\n",
       "      <th>Thomas High School</th>\n",
       "      <td>Charter</td>\n",
       "      <td>1635</td>\n",
       "      <td>$1,043,130.00</td>\n",
       "      <td>$638.00</td>\n",
       "      <td>83.4%</td>\n",
       "      <td>83.8%</td>\n",
       "      <td>93.3%</td>\n",
       "      <td>97.3%</td>\n",
       "      <td>90.9%</td>\n",
       "    </tr>\n",
       "    <tr>\n",
       "      <th>Griffin High School</th>\n",
       "      <td>Charter</td>\n",
       "      <td>1468</td>\n",
       "      <td>$917,500.00</td>\n",
       "      <td>$625.00</td>\n",
       "      <td>83.4%</td>\n",
       "      <td>83.8%</td>\n",
       "      <td>93.4%</td>\n",
       "      <td>97.1%</td>\n",
       "      <td>90.6%</td>\n",
       "    </tr>\n",
       "    <tr>\n",
       "      <th>Wilson High School</th>\n",
       "      <td>Charter</td>\n",
       "      <td>2283</td>\n",
       "      <td>$1,319,574.00</td>\n",
       "      <td>$578.00</td>\n",
       "      <td>83.3%</td>\n",
       "      <td>84.0%</td>\n",
       "      <td>93.9%</td>\n",
       "      <td>96.5%</td>\n",
       "      <td>90.6%</td>\n",
       "    </tr>\n",
       "    <tr>\n",
       "      <th>Pena High School</th>\n",
       "      <td>Charter</td>\n",
       "      <td>962</td>\n",
       "      <td>$585,858.00</td>\n",
       "      <td>$609.00</td>\n",
       "      <td>83.8%</td>\n",
       "      <td>84.0%</td>\n",
       "      <td>94.6%</td>\n",
       "      <td>95.9%</td>\n",
       "      <td>90.5%</td>\n",
       "    </tr>\n",
       "  </tbody>\n",
       "</table>\n",
       "</div>"
      ],
      "text/plain": [
       "                    School Type  Total Students Total School Budget  \\\n",
       "Cabrera High School     Charter            1858       $1,081,356.00   \n",
       "Thomas High School      Charter            1635       $1,043,130.00   \n",
       "Griffin High School     Charter            1468         $917,500.00   \n",
       "Wilson High School      Charter            2283       $1,319,574.00   \n",
       "Pena High School        Charter             962         $585,858.00   \n",
       "\n",
       "                    Per Student Budget Average Math Score  \\\n",
       "Cabrera High School            $582.00              83.1%   \n",
       "Thomas High School             $638.00              83.4%   \n",
       "Griffin High School            $625.00              83.4%   \n",
       "Wilson High School             $578.00              83.3%   \n",
       "Pena High School               $609.00              83.8%   \n",
       "\n",
       "                    Average Reading Score % Passing Math % Passing Reading  \\\n",
       "Cabrera High School                 84.0%          94.1%             97.0%   \n",
       "Thomas High School                  83.8%          93.3%             97.3%   \n",
       "Griffin High School                 83.8%          93.4%             97.1%   \n",
       "Wilson High School                  84.0%          93.9%             96.5%   \n",
       "Pena High School                    84.0%          94.6%             95.9%   \n",
       "\n",
       "                    % Overall Passing  \n",
       "Cabrera High School             91.3%  \n",
       "Thomas High School              90.9%  \n",
       "Griffin High School             90.6%  \n",
       "Wilson High School              90.6%  \n",
       "Pena High School                90.5%  "
      ]
     },
     "execution_count": 14,
     "metadata": {},
     "output_type": "execute_result"
    }
   ],
   "source": [
    "per_school_summary_df = pd.DataFrame({\n",
    "             \"School Type\": per_school_types,\n",
    "             \"Total Students\": per_school_counts,\n",
    "             \"Total School Budget\": per_school_budget,\n",
    "             \"Per Student Budget\": per_school_capita,\n",
    "             \"Average Math Score\": per_school_math_average,\n",
    "           \"Average Reading Score\": per_school_reading_average,\n",
    "           \"% Passing Math\": per_school_passing_math_per,\n",
    "           \"% Passing Reading\": per_school_passing_reading_per,\n",
    "           \"% Overall Passing\": per_overall_passing_percentage})\n",
    "\n",
    "per_school_summary_df[\"Total School Budget\"] = per_school_summary_df[\"Total School Budget\"].map(\"${:,.2f}\".format)\n",
    "per_school_summary_df[\"Per Student Budget\"] = per_school_summary_df[\"Per Student Budget\"].map(\"${:,.2f}\".format)\n",
    "per_school_summary_df[\"Average Math Score\"] = per_school_summary_df[\"Average Math Score\"].map(\"{:,.1f}%\".format)\n",
    "per_school_summary_df[\"Average Reading Score\"] = per_school_summary_df[\"Average Reading Score\"].map(\"{:,.1f}%\".format)\n",
    "per_school_summary_df[\"% Passing Math\"] = per_school_summary_df[\"% Passing Math\"].map(\"{:,.1f}%\".format)\n",
    "per_school_summary_df[\"% Passing Reading\"] = per_school_summary_df[\"% Passing Reading\"].map(\"{:,.1f}%\".format)\n",
    "per_school_summary_df[\"% Overall Passing\"] = per_school_summary_df[\"% Overall Passing\"].map(\"{:,.1f}%\".format)\n",
    "\n",
    "\n",
    "# Reorder the columns in the order you want them to appear.\n",
    "new_column_order = [\"School Type\", \"Total Students\", \"Total School Budget\", \"Per Student Budget\", \"Average Math Score\", \"Average Reading Score\", \"% Passing Math\", \"% Passing Reading\", \"% Overall Passing\"]\n",
    "per_school_summary_df = per_school_summary_df[new_column_order]\n",
    "top_schools = per_school_summary_df.sort_values([\"% Overall Passing\"], ascending=False)\n",
    "# Assign district summary df the new column order.\n",
    "\n",
    "top_schools.head()"
   ]
  },
  {
   "cell_type": "markdown",
   "metadata": {},
   "source": [
    "### Creating Grade_level Dataframes"
   ]
  },
  {
   "cell_type": "code",
   "execution_count": 38,
   "metadata": {},
   "outputs": [
    {
     "data": {
      "text/html": [
       "<div>\n",
       "<style scoped>\n",
       "    .dataframe tbody tr th:only-of-type {\n",
       "        vertical-align: middle;\n",
       "    }\n",
       "\n",
       "    .dataframe tbody tr th {\n",
       "        vertical-align: top;\n",
       "    }\n",
       "\n",
       "    .dataframe thead th {\n",
       "        text-align: right;\n",
       "    }\n",
       "</style>\n",
       "<table border=\"1\" class=\"dataframe\">\n",
       "  <thead>\n",
       "    <tr style=\"text-align: right;\">\n",
       "      <th></th>\n",
       "      <th>9th</th>\n",
       "      <th>10th</th>\n",
       "      <th>11th</th>\n",
       "      <th>12th</th>\n",
       "    </tr>\n",
       "    <tr>\n",
       "      <th>school_name</th>\n",
       "      <th></th>\n",
       "      <th></th>\n",
       "      <th></th>\n",
       "      <th></th>\n",
       "    </tr>\n",
       "  </thead>\n",
       "  <tbody>\n",
       "    <tr>\n",
       "      <th>Bailey High School</th>\n",
       "      <td>77.1</td>\n",
       "      <td>77.0</td>\n",
       "      <td>77.5</td>\n",
       "      <td>76.5</td>\n",
       "    </tr>\n",
       "    <tr>\n",
       "      <th>Cabrera High School</th>\n",
       "      <td>83.1</td>\n",
       "      <td>83.2</td>\n",
       "      <td>82.8</td>\n",
       "      <td>83.3</td>\n",
       "    </tr>\n",
       "    <tr>\n",
       "      <th>Figueroa High School</th>\n",
       "      <td>76.4</td>\n",
       "      <td>76.5</td>\n",
       "      <td>76.9</td>\n",
       "      <td>77.2</td>\n",
       "    </tr>\n",
       "    <tr>\n",
       "      <th>Ford High School</th>\n",
       "      <td>77.4</td>\n",
       "      <td>77.7</td>\n",
       "      <td>76.9</td>\n",
       "      <td>76.2</td>\n",
       "    </tr>\n",
       "    <tr>\n",
       "      <th>Griffin High School</th>\n",
       "      <td>82.0</td>\n",
       "      <td>84.2</td>\n",
       "      <td>83.8</td>\n",
       "      <td>83.4</td>\n",
       "    </tr>\n",
       "  </tbody>\n",
       "</table>\n",
       "</div>"
      ],
      "text/plain": [
       "                       9th  10th  11th  12th\n",
       "school_name                                 \n",
       "Bailey High School    77.1  77.0  77.5  76.5\n",
       "Cabrera High School   83.1  83.2  82.8  83.3\n",
       "Figueroa High School  76.4  76.5  76.9  77.2\n",
       "Ford High School      77.4  77.7  76.9  76.2\n",
       "Griffin High School   82.0  84.2  83.8  83.4"
      ]
     },
     "execution_count": 38,
     "metadata": {},
     "output_type": "execute_result"
    }
   ],
   "source": [
    "ninth_graders = school_data_complete_df[(school_data_complete_df[\"grade\"] == \"9th\")]\n",
    "tenth_graders = school_data_complete_df[(school_data_complete_df[\"grade\"] == \"10th\")]\n",
    "eleventh_graders = school_data_complete_df[(school_data_complete_df[\"grade\"] == \"11th\")]\n",
    "twelfth_graders = school_data_complete_df[(school_data_complete_df[\"grade\"] == \"12th\")]\n",
    "\n",
    "ninth_grader_math_scores = ninth_graders.groupby([\"school_name\"]).mean()[\"math_score\"]\n",
    "tenth_grader_math_scores = tenth_graders.groupby([\"school_name\"]).mean()[\"math_score\"]\n",
    "eleventh_grader_math_scores = eleventh_graders.groupby([\"school_name\"]).mean()[\"math_score\"]\n",
    "twelfth_grader_math_scores = twelfth_graders.groupby([\"school_name\"]).mean()[\"math_score\"]\n",
    "\n",
    "ninth_grader_reading_scores = ninth_graders.groupby([\"school_name\"]).mean()[\"reading_score\"]\n",
    "tenth_grader_reading_scores = tenth_graders.groupby([\"school_name\"]).mean()[\"reading_score\"]\n",
    "eleventh_grader_reading_scores = eleventh_graders.groupby([\"school_name\"]).mean()[\"reading_score\"]\n",
    "twelfth_grader_reading_scores = twelfth_graders.groupby([\"school_name\"]).mean()[\"reading_score\"]\n",
    "\n",
    "math_scores_by_grade = pd.DataFrame({\n",
    "               \"9th\": ninth_grader_math_scores,\n",
    "               \"10th\": tenth_grader_math_scores,\n",
    "               \"11th\": eleventh_grader_math_scores,\n",
    "               \"12th\": twelfth_grader_math_scores})\n",
    "\n",
    "reading_scores_by_grade = pd.DataFrame({\n",
    "               \"9th\": ninth_grader_reading_scores,\n",
    "               \"10th\": tenth_grader_reading_scores,\n",
    "               \"11th\": eleventh_grader_reading_scores,\n",
    "               \"12th\": twelfth_grader_reading_scores})\n",
    "\n",
    "\n",
    "# Format each grade column.\n",
    "math_scores_by_grade[\"9th\"] = math_scores_by_grade[\"9th\"].map(\"{:.1f}\".format)\n",
    "math_scores_by_grade[\"10th\"] = math_scores_by_grade[\"10th\"].map(\"{:.1f}\".format)\n",
    "math_scores_by_grade[\"11th\"] = math_scores_by_grade[\"11th\"].map(\"{:.1f}\".format)\n",
    "math_scores_by_grade[\"12th\"] = math_scores_by_grade[\"12th\"].map(\"{:.1f}\".format)\n",
    "\n",
    "# Make sure the columns are in the correct order.\n",
    "math_scores_by_grade = math_scores_by_grade[\n",
    "             [\"9th\", \"10th\", \"11th\", \"12th\"]]\n",
    "\n",
    "  # Remove the index name.\n",
    "math_scores_by_grade.index.name = None\n",
    "# Display the DataFrame.\n",
    "\n",
    "math_scores_by_grade.head()"
   ]
  },
  {
   "cell_type": "code",
   "execution_count": null,
   "metadata": {},
   "outputs": [],
   "source": []
  }
 ],
 "metadata": {
  "kernelspec": {
   "display_name": "PythonData",
   "language": "python",
   "name": "pythondata"
  },
  "language_info": {
   "codemirror_mode": {
    "name": "ipython",
    "version": 3
   },
   "file_extension": ".py",
   "mimetype": "text/x-python",
   "name": "python",
   "nbconvert_exporter": "python",
   "pygments_lexer": "ipython3",
   "version": "3.7.7"
  }
 },
 "nbformat": 4,
 "nbformat_minor": 4
}
